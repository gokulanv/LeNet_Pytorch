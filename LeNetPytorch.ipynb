{
  "nbformat": 4,
  "nbformat_minor": 0,
  "metadata": {
    "colab": {
      "name": "LeNetPytorch.ipynb",
      "provenance": [],
      "authorship_tag": "ABX9TyM1dFDqoyfAp99PDWJD0pxp",
      "include_colab_link": true
    },
    "kernelspec": {
      "name": "python3",
      "display_name": "Python 3"
    }
  },
  "cells": [
    {
      "cell_type": "markdown",
      "metadata": {
        "id": "view-in-github",
        "colab_type": "text"
      },
      "source": [
        "<a href=\"https://colab.research.google.com/github/gokulanv/LeNet_Pytorch/blob/master/LeNetPytorch.ipynb\" target=\"_parent\"><img src=\"https://colab.research.google.com/assets/colab-badge.svg\" alt=\"Open In Colab\"/></a>"
      ]
    },
    {
      "cell_type": "code",
      "metadata": {
        "id": "Ju9hoASHfQOG",
        "colab_type": "code",
        "colab": {}
      },
      "source": [
        "import torch\n",
        "import torch.nn as nn\n",
        "import torch.nn.functional as F"
      ],
      "execution_count": 0,
      "outputs": []
    },
    {
      "cell_type": "markdown",
      "metadata": {
        "id": "kKbr5nA6ZJ9T",
        "colab_type": "text"
      },
      "source": [
        "LeNet - Simple Neural Network"
      ]
    },
    {
      "cell_type": "code",
      "metadata": {
        "id": "7iRJKD_pZMnT",
        "colab_type": "code",
        "colab": {
          "base_uri": "https://localhost:8080/",
          "height": 134
        },
        "outputId": "e048c44b-0b92-412f-90d1-bd77b5c8d09a"
      },
      "source": [
        "class NeuralNet(nn.Module):\n",
        "  def __init__(self):\n",
        "    super(NeuralNet, self).__init__()\n",
        "    #Conv layers\n",
        "    self.conv1 = nn.Conv2d(in_channels=1, out_channels=6, kernel_size=5)\n",
        "    self.conv2 = nn.Conv2d(in_channels=6, out_channels=16, kernel_size=5)\n",
        "    # FC Layers\n",
        "    self.fc1 = nn.Linear(in_features=16*5*5, out_features=120)\n",
        "    self.fc2 = nn.Linear(in_features=120, out_features=84)\n",
        "    self.fc3 = nn.Linear(in_features=84, out_features=10)\n",
        "\n",
        "  def forward(self, x):\n",
        "    x = F.max_pool2d(self.conv1(x), (2,2))\n",
        "    x = F.max_pool2d(F.relu(self.conv2(x)), 2)\n",
        "    x = x.view(-1, self.num_flat_features(x))\n",
        "    x = F.relu(self.fc1(x))\n",
        "    x = F.relu(self.fc2(x))\n",
        "    x = self.fc3(x)\n",
        "    return x\n",
        "\n",
        "  def num_flat_features(self, x):\n",
        "        size = x.size()[1:]  # all dimensions except the batch dimension\n",
        "        num_features = 1\n",
        "        for s in size:\n",
        "            num_features *= s\n",
        "        return num_features\n",
        "\n",
        "net = NeuralNet()\n",
        "print(net)"
      ],
      "execution_count": 53,
      "outputs": [
        {
          "output_type": "stream",
          "text": [
            "NeuralNet(\n",
            "  (conv1): Conv2d(1, 6, kernel_size=(5, 5), stride=(1, 1))\n",
            "  (conv2): Conv2d(6, 16, kernel_size=(5, 5), stride=(1, 1))\n",
            "  (fc1): Linear(in_features=400, out_features=120, bias=True)\n",
            "  (fc2): Linear(in_features=120, out_features=84, bias=True)\n",
            "  (fc3): Linear(in_features=84, out_features=10, bias=True)\n",
            ")\n"
          ],
          "name": "stdout"
        }
      ]
    },
    {
      "cell_type": "code",
      "metadata": {
        "id": "PA7IoUYGtOWt",
        "colab_type": "code",
        "colab": {
          "base_uri": "https://localhost:8080/",
          "height": 34
        },
        "outputId": "8ab146ab-6455-4311-c06f-c6e40ea287d1"
      },
      "source": [
        "params = list(net.parameters())\n",
        "print(params[0].size())"
      ],
      "execution_count": 54,
      "outputs": [
        {
          "output_type": "stream",
          "text": [
            "torch.Size([6, 1, 5, 5])\n"
          ],
          "name": "stdout"
        }
      ]
    },
    {
      "cell_type": "code",
      "metadata": {
        "id": "NpEYYwn5uJvJ",
        "colab_type": "code",
        "colab": {
          "base_uri": "https://localhost:8080/",
          "height": 50
        },
        "outputId": "9058b6f2-414e-40d5-87c0-7e91113778f9"
      },
      "source": [
        "input = torch.randn(1, 1, 32, 32)\n",
        "out = net(input)\n",
        "print(out)"
      ],
      "execution_count": 55,
      "outputs": [
        {
          "output_type": "stream",
          "text": [
            "tensor([[ 0.0535,  0.1233, -0.0203,  0.0653, -0.0725, -0.0901,  0.0750,  0.0137,\n",
            "          0.0887, -0.1660]], grad_fn=<AddmmBackward>)\n"
          ],
          "name": "stdout"
        }
      ]
    },
    {
      "cell_type": "code",
      "metadata": {
        "id": "CGK0OdAyuXFq",
        "colab_type": "code",
        "colab": {
          "base_uri": "https://localhost:8080/",
          "height": 34
        },
        "outputId": "338a28dc-324b-46ed-ceda-71f465c76ede"
      },
      "source": [
        "#Loss computation\n",
        "\n",
        "output = net(input)\n",
        "target = torch.randn(10)  # a dummy target, for example\n",
        "target = target.view(1, -1)  # make it the same shape as output\n",
        "criterion = nn.MSELoss()\n",
        "\n",
        "loss = criterion(output, target)\n",
        "print(loss)"
      ],
      "execution_count": 56,
      "outputs": [
        {
          "output_type": "stream",
          "text": [
            "tensor(1.0692, grad_fn=<MseLossBackward>)\n"
          ],
          "name": "stdout"
        }
      ]
    },
    {
      "cell_type": "code",
      "metadata": {
        "id": "r51dbNAK3RDk",
        "colab_type": "code",
        "colab": {
          "base_uri": "https://localhost:8080/",
          "height": 67
        },
        "outputId": "89d3327e-ec96-4b24-d674-72d887e8dc2e"
      },
      "source": [
        "print(loss.grad_fn)  # MSELoss\n",
        "print(loss.grad_fn.next_functions[0][0])  # Linear\n",
        "print(loss.grad_fn.next_functions[0][0].next_functions[0][0])  # ReLU"
      ],
      "execution_count": 57,
      "outputs": [
        {
          "output_type": "stream",
          "text": [
            "<MseLossBackward object at 0x7f0360654860>\n",
            "<AddmmBackward object at 0x7f0360654550>\n",
            "<AccumulateGrad object at 0x7f0360654860>\n"
          ],
          "name": "stdout"
        }
      ]
    },
    {
      "cell_type": "code",
      "metadata": {
        "id": "U0xz3mDp3eb-",
        "colab_type": "code",
        "colab": {
          "base_uri": "https://localhost:8080/",
          "height": 739
        },
        "outputId": "e3e5b75d-d7e5-4ba8-f6a8-968635618e82"
      },
      "source": [
        "net.zero_grad()\n",
        "\n",
        "print('conv1 grad before backprop')\n",
        "print(net.conv1.weight.grad)\n",
        "\n",
        "loss.backward()\n",
        "\n",
        "print('conv1 grad after backprop')\n",
        "print(net.conv1.weight.grad)"
      ],
      "execution_count": 58,
      "outputs": [
        {
          "output_type": "stream",
          "text": [
            "conv1 grad before backprop\n",
            "None\n",
            "conv1 grad after backprop\n",
            "tensor([[[[ 7.8256e-03, -1.2072e-03, -6.7794e-03, -1.0931e-02,  5.9057e-03],\n",
            "          [-3.6541e-03, -2.0363e-02,  1.1442e-02, -6.7667e-03,  1.1405e-02],\n",
            "          [ 1.2727e-02,  1.6590e-02,  2.0165e-03, -3.7445e-03,  2.3650e-02],\n",
            "          [ 1.5314e-03, -1.6798e-02,  1.2756e-02, -1.8046e-03, -1.3962e-02],\n",
            "          [ 7.4986e-03, -9.4742e-03,  2.2131e-03,  6.4103e-03,  2.6853e-02]]],\n",
            "\n",
            "\n",
            "        [[[-5.5541e-03, -8.4234e-03, -2.2605e-02, -6.0791e-03,  9.8344e-03],\n",
            "          [-1.1196e-02,  1.4949e-02,  7.3339e-03, -1.6946e-02, -2.5760e-03],\n",
            "          [-4.3093e-03,  3.5342e-04, -1.7460e-02,  3.1444e-02, -1.6968e-02],\n",
            "          [ 2.1975e-03,  1.8721e-02,  2.4375e-02, -6.5204e-03, -1.5079e-02],\n",
            "          [-4.6113e-03,  4.8170e-05, -1.2978e-03, -6.7232e-03,  1.4883e-02]]],\n",
            "\n",
            "\n",
            "        [[[-1.5062e-02,  1.4291e-02,  3.0478e-03, -4.0698e-03, -9.4697e-03],\n",
            "          [-2.8825e-03,  2.2096e-02,  3.7767e-03,  3.2314e-03,  2.6987e-03],\n",
            "          [ 7.1559e-03, -6.9298e-03, -5.2414e-03,  1.2822e-02,  7.1198e-03],\n",
            "          [-1.4206e-02,  1.0393e-02, -2.3536e-02,  1.6340e-02, -1.1956e-02],\n",
            "          [-2.1717e-02,  7.5455e-03,  3.1553e-03,  2.9092e-03,  7.3470e-03]]],\n",
            "\n",
            "\n",
            "        [[[ 9.7203e-04,  2.7255e-02, -8.5877e-03,  1.1534e-04, -1.4368e-02],\n",
            "          [ 9.3772e-03,  2.2861e-02,  7.6129e-03, -3.3252e-03, -1.2522e-02],\n",
            "          [-2.9854e-03,  9.0714e-03,  3.7104e-05,  2.3311e-03,  1.1348e-02],\n",
            "          [ 6.8720e-03,  6.4853e-03, -4.7159e-03,  1.1249e-02, -1.0741e-02],\n",
            "          [ 5.9494e-03,  2.3002e-03,  1.0273e-02, -6.9084e-03, -8.1824e-03]]],\n",
            "\n",
            "\n",
            "        [[[ 2.7835e-03,  3.8496e-02, -3.0142e-03,  6.8871e-03,  2.0206e-03],\n",
            "          [ 2.2376e-02,  2.0113e-02, -2.5695e-02,  1.1566e-02, -8.2855e-03],\n",
            "          [-1.6297e-02,  1.4460e-02, -8.0669e-03,  2.1468e-02, -4.8534e-03],\n",
            "          [ 5.9170e-04, -1.2373e-03,  4.3457e-03, -3.7838e-03, -1.1197e-02],\n",
            "          [ 1.8190e-02, -2.1391e-02, -6.0748e-03,  5.2840e-03, -1.7862e-02]]],\n",
            "\n",
            "\n",
            "        [[[ 3.3171e-03,  1.0867e-02,  8.2739e-03,  2.6557e-02,  4.4577e-04],\n",
            "          [ 6.8404e-03,  2.2165e-02,  1.0257e-03,  2.8636e-02, -6.4645e-03],\n",
            "          [ 9.7731e-03,  8.0519e-03,  1.0066e-03,  9.6024e-03, -1.4791e-02],\n",
            "          [ 3.3312e-04,  2.0501e-02,  8.9636e-04, -1.1446e-02, -4.7314e-03],\n",
            "          [-1.1726e-02, -9.8922e-03, -2.0733e-03,  2.0289e-03, -7.5921e-03]]]])\n"
          ],
          "name": "stdout"
        }
      ]
    },
    {
      "cell_type": "code",
      "metadata": {
        "id": "PmkGHl1e4Oyl",
        "colab_type": "code",
        "colab": {}
      },
      "source": [
        "lr = 0.003\n",
        "for param in net.parameters():\n",
        "  param.data.sub_(param.grad.data * lr)"
      ],
      "execution_count": 0,
      "outputs": []
    },
    {
      "cell_type": "code",
      "metadata": {
        "id": "hvIDfpx93ylt",
        "colab_type": "code",
        "colab": {}
      },
      "source": [
        "import torch.optim as optim\n",
        "\n",
        "optimizer = optim.SGD(net.parameters(), lr=0.003)\n",
        "\n",
        "#Training loop:\n",
        "optimizer.zero_grad()\n",
        "output = net(input)\n",
        "loss = criterion(output, target) \n",
        "loss.backward()\n",
        "optimizer.step()"
      ],
      "execution_count": 0,
      "outputs": []
    },
    {
      "cell_type": "code",
      "metadata": {
        "id": "_HhspfDZ5gvK",
        "colab_type": "code",
        "colab": {
          "base_uri": "https://localhost:8080/",
          "height": 706
        },
        "outputId": "da7581a3-5cc1-4530-ee93-bdcf14caac58"
      },
      "source": [
        "print('conv1 grad after SGD backprop')\n",
        "print(net.conv1.weight.grad)"
      ],
      "execution_count": 62,
      "outputs": [
        {
          "output_type": "stream",
          "text": [
            "conv1 grad after SGD backprop\n",
            "tensor([[[[ 7.7669e-03, -1.2543e-03, -6.7836e-03, -1.0715e-02,  5.9997e-03],\n",
            "          [-3.7381e-03, -2.0054e-02,  1.1414e-02, -6.7713e-03,  1.1561e-02],\n",
            "          [ 1.2980e-02,  1.6440e-02,  2.1325e-03, -3.5988e-03,  2.3671e-02],\n",
            "          [ 1.5571e-03, -1.6780e-02,  1.2497e-02, -1.6615e-03, -1.4283e-02],\n",
            "          [ 7.3560e-03, -9.5862e-03,  2.0173e-03,  6.2795e-03,  2.7221e-02]]],\n",
            "\n",
            "\n",
            "        [[[-5.4927e-03, -8.4265e-03, -2.2298e-02, -6.0706e-03,  9.7308e-03],\n",
            "          [-1.1127e-02,  1.5295e-02,  7.3066e-03, -1.6987e-02, -2.5105e-03],\n",
            "          [-3.9256e-03,  4.3962e-04, -1.7427e-02,  3.1461e-02, -1.7096e-02],\n",
            "          [ 2.0151e-03,  1.8796e-02,  2.4462e-02, -6.4947e-03, -1.5197e-02],\n",
            "          [-4.5610e-03, -3.9045e-04, -1.4335e-03, -7.0181e-03,  1.4520e-02]]],\n",
            "\n",
            "\n",
            "        [[[-1.5372e-02,  1.4035e-02,  2.8614e-03, -3.9151e-03, -9.1778e-03],\n",
            "          [-3.2690e-03,  2.2555e-02,  3.3456e-03,  3.8937e-03,  2.8667e-03],\n",
            "          [ 6.9712e-03, -7.2250e-03, -5.0787e-03,  1.2918e-02,  6.7779e-03],\n",
            "          [-1.4204e-02,  1.0755e-02, -2.3960e-02,  1.5973e-02, -1.2312e-02],\n",
            "          [-2.2021e-02,  7.5826e-03,  3.4760e-03,  2.5734e-03,  7.7362e-03]]],\n",
            "\n",
            "\n",
            "        [[[ 1.2888e-03,  2.7600e-02, -8.4087e-03, -1.1366e-05, -1.4396e-02],\n",
            "          [ 9.1532e-03,  2.3190e-02,  7.8086e-03, -3.5082e-03, -1.2197e-02],\n",
            "          [-2.7970e-03,  8.8268e-03, -2.8333e-04,  2.6514e-03,  1.1439e-02],\n",
            "          [ 6.7424e-03,  6.6568e-03, -4.3252e-03,  1.1046e-02, -1.0502e-02],\n",
            "          [ 5.9403e-03,  2.8539e-03,  9.8684e-03, -7.1327e-03, -8.3402e-03]]],\n",
            "\n",
            "\n",
            "        [[[ 2.3624e-03,  3.8866e-02, -2.5177e-03,  6.7911e-03,  2.3441e-03],\n",
            "          [ 2.3101e-02,  2.0394e-02, -2.6828e-02,  1.2621e-02, -9.0883e-03],\n",
            "          [-1.7084e-02,  1.4787e-02, -7.7393e-03,  2.1453e-02, -5.5411e-03],\n",
            "          [ 6.8746e-04, -1.3371e-03,  4.8572e-03, -4.6922e-03, -1.0842e-02],\n",
            "          [ 1.8531e-02, -2.1794e-02, -6.5517e-03,  5.9086e-03, -1.7640e-02]]],\n",
            "\n",
            "\n",
            "        [[[ 3.4210e-03,  1.1012e-02,  8.5124e-03,  2.6266e-02,  9.3592e-04],\n",
            "          [ 7.2148e-03,  2.2494e-02,  8.6021e-04,  2.8728e-02, -6.7305e-03],\n",
            "          [ 9.9424e-03,  8.0115e-03,  8.2574e-04,  9.7786e-03, -1.4960e-02],\n",
            "          [ 7.4503e-05,  2.0285e-02,  8.2285e-04, -1.1279e-02, -4.6567e-03],\n",
            "          [-1.2116e-02, -9.7876e-03, -2.0020e-03,  2.1825e-03, -7.8143e-03]]]])\n"
          ],
          "name": "stdout"
        }
      ]
    }
  ]
}