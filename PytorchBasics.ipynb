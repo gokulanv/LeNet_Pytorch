{
  "nbformat": 4,
  "nbformat_minor": 0,
  "metadata": {
    "colab": {
      "name": "PytorchBasics.ipynb",
      "provenance": [],
      "authorship_tag": "ABX9TyPuElYsIDlr0DHALMayRTfj",
      "include_colab_link": true
    },
    "kernelspec": {
      "name": "python3",
      "display_name": "Python 3"
    }
  },
  "cells": [
    {
      "cell_type": "markdown",
      "metadata": {
        "id": "view-in-github",
        "colab_type": "text"
      },
      "source": [
        "<a href=\"https://colab.research.google.com/github/gokulanv/LeNet_Pytorch/blob/master/PytorchBasics.ipynb\" target=\"_parent\"><img src=\"https://colab.research.google.com/assets/colab-badge.svg\" alt=\"Open In Colab\"/></a>"
      ]
    },
    {
      "cell_type": "code",
      "metadata": {
        "id": "ouox-ztdLfuG",
        "colab_type": "code",
        "colab": {}
      },
      "source": [
        "import torch \n",
        "import torchvision\n",
        "import torch.nn as nn\n",
        "import torch.nn.functional as F\n",
        "import numpy as np\n",
        "import torchvision.transforms as transforms"
      ],
      "execution_count": 0,
      "outputs": []
    },
    {
      "cell_type": "code",
      "metadata": {
        "id": "89R5kimyLh-C",
        "colab_type": "code",
        "colab": {
          "base_uri": "https://localhost:8080/",
          "height": 118
        },
        "outputId": "390fe0d0-cd50-4bf3-ee55-6c99048a45fa"
      },
      "source": [
        "from torch import FloatTensor\n",
        "from torch.autograd import Variable\n",
        "\n",
        "\n",
        "# Define the leaf nodes\n",
        "a = Variable(FloatTensor([4]))\n",
        "\n",
        "weights = [Variable(FloatTensor([i]), requires_grad=True) for i in (2, 5, 9, 7)]\n",
        "\n",
        "# unpack the weights for nicer assignment\n",
        "w1, w2, w3, w4 = weights\n",
        "\n",
        "b = w1 * a #8\n",
        "print(w1)\n",
        "c = w2 * a #20\n",
        "d = w3 * b + w4 * c # 72 + 140\n",
        "L = (10 - d) # 202\n",
        "\n",
        "L.backward()\n",
        "\n",
        "for index, weight in enumerate(weights, start=1):\n",
        "    gradient, *_ = weight.grad.data\n",
        "    print(f\"Gradient of w{index} w.r.t to L: {gradient}\")\n",
        "\n",
        "print(weights[0].grad)"
      ],
      "execution_count": 2,
      "outputs": [
        {
          "output_type": "stream",
          "text": [
            "tensor([2.], requires_grad=True)\n",
            "Gradient of w1 w.r.t to L: -36.0\n",
            "Gradient of w2 w.r.t to L: -28.0\n",
            "Gradient of w3 w.r.t to L: -8.0\n",
            "Gradient of w4 w.r.t to L: -20.0\n",
            "tensor([-36.])\n"
          ],
          "name": "stdout"
        }
      ]
    },
    {
      "cell_type": "code",
      "metadata": {
        "id": "UX2VCkMMLjXk",
        "colab_type": "code",
        "colab": {
          "base_uri": "https://localhost:8080/",
          "height": 235
        },
        "outputId": "d829d4d1-4975-41bd-c56c-0ac6bae9b7e2"
      },
      "source": [
        "\n",
        "# ================================================================== #\n",
        "#                         Table of Contents                          #\n",
        "# ================================================================== #\n",
        "\n",
        "# 1. Basic autograd example 1               (Line 25 to 39)\n",
        "# 2. Basic autograd example 2               (Line 46 to 83)\n",
        "# 3. Loading data from numpy                (Line 90 to 97)\n",
        "# 4. Input pipline                          (Line 104 to 129)\n",
        "# 5. Input pipline for custom dataset       (Line 136 to 156)\n",
        "# 6. Pretrained model                       (Line 163 to 176)\n",
        "# 7. Save and load model                    (Line 183 to 189) \n",
        "\n",
        "\n",
        "# ================================================================== #\n",
        "#                     1. Basic autograd example 1                    #\n",
        "# ================================================================== #\n",
        "\n",
        "# Create tensors.\n",
        "x = torch.tensor(1., requires_grad=True)\n",
        "w = torch.tensor(2., requires_grad=True)\n",
        "b = torch.tensor(3., requires_grad=True)\n",
        "\n",
        "# Build a computational graph.\n",
        "y = w * x + b    # y = 2 * x + 3\n",
        "\n",
        "# Compute gradients.\n",
        "y.backward()\n",
        "\n",
        "# Print out the gradients.\n",
        "print(x.grad)    # x.grad = 2 \n",
        "print(w.grad)    # w.grad = 1 \n",
        "print(b.grad)    # b.grad = 1 \n",
        "\n",
        "\n",
        "# ================================================================== #\n",
        "#                    2. Basic autograd example 2                     #\n",
        "# ================================================================== #\n",
        "\n",
        "# Create tensors of shape (10, 3) and (10, 2).\n",
        "x = torch.randn(10, 3)\n",
        "y = torch.randn(10, 2)\n",
        "\n",
        "# Build a fully connected layer.\n",
        "linear = nn.Linear(3, 2)\n",
        "print ('w: ', linear.weight)\n",
        "print ('b: ', linear.bias)\n",
        "\n",
        "# Build loss function and optimizer.\n",
        "criterion = nn.MSELoss()\n",
        "optimizer = torch.optim.SGD(linear.parameters(), lr=0.01)\n",
        "\n",
        "# Forward pass.\n",
        "pred = linear(x)\n",
        "\n",
        "# Compute loss.\n",
        "loss = criterion(pred, y)\n",
        "print('loss: ', loss.item())\n",
        "\n",
        "# Backward pass.\n",
        "loss.backward()\n",
        "\n",
        "# Print out the gradients.\n",
        "print ('dL/dw: ', linear.weight.grad) \n",
        "print ('dL/db: ', linear.bias.grad)\n",
        "\n",
        "# 1-step gradient descent.\n",
        "optimizer.step()\n",
        "\n",
        "# You can also perform gradient descent at the low level.\n",
        "# linear.weight.data.sub_(0.01 * linear.weight.grad.data)\n",
        "# linear.bias.data.sub_(0.01 * linear.bias.grad.data)\n",
        "\n",
        "# Print out the loss after 1-step gradient descent.\n",
        "pred = linear(x)\n",
        "loss = criterion(pred, y)\n",
        "print('loss after 1 step optimization: ', loss.item())\n"
      ],
      "execution_count": 3,
      "outputs": [
        {
          "output_type": "stream",
          "text": [
            "tensor(2.)\n",
            "tensor(1.)\n",
            "tensor(1.)\n",
            "w:  Parameter containing:\n",
            "tensor([[ 0.4113, -0.4054, -0.3912],\n",
            "        [ 0.1290, -0.4298, -0.5543]], requires_grad=True)\n",
            "b:  Parameter containing:\n",
            "tensor([ 0.3056, -0.3107], requires_grad=True)\n",
            "loss:  0.9141187071800232\n",
            "dL/dw:  tensor([[ 0.0096, -0.0418, -0.2185],\n",
            "        [ 0.3297, -0.0041, -0.4163]])\n",
            "dL/db:  tensor([ 0.4149, -0.6936])\n",
            "loss after 1 step optimization:  0.9043300747871399\n"
          ],
          "name": "stdout"
        }
      ]
    },
    {
      "cell_type": "code",
      "metadata": {
        "id": "m5hY6pgCLm6m",
        "colab_type": "code",
        "colab": {
          "base_uri": "https://localhost:8080/",
          "height": 605
        },
        "outputId": "860c1529-2e30-4985-b5c0-1399286ed57e"
      },
      "source": [
        "# ================================================================== #\n",
        "#                         4. Input pipline                           #\n",
        "# ================================================================== #\n",
        "\n",
        "# Download and construct CIFAR-10 dataset.\n",
        "train_dataset = torchvision.datasets.CIFAR10(root='../../data/',\n",
        "                                             train=True, \n",
        "                                             transform=transforms.ToTensor(),\n",
        "                                             download=True)\n",
        "\n",
        "# Fetch one data pair (read data from disk).\n",
        "image, label = train_dataset[0]\n",
        "print (image.size())\n",
        "print (label)\n",
        "\n",
        "# Data loader (this provides queues and threads in a very simple way).\n",
        "train_loader = torch.utils.data.DataLoader(dataset=train_dataset,\n",
        "                                           batch_size=64, \n",
        "                                           shuffle=True)\n",
        "\n",
        "# When iteration starts, queue and thread start to load data from files.\n",
        "data_iter = iter(train_loader)\n",
        "\n",
        "# Mini-batch images and labels.\n",
        "images, labels = data_iter.next()\n",
        "\n",
        "# Actual usage of the data loader is as below.\n",
        "c = 0\n",
        "for images, labels in train_loader:\n",
        "    # Training code should be written here.\n",
        "    if c < 10:\n",
        "      print(labels)\n",
        "      c = c + 1\n",
        "    pass\n"
      ],
      "execution_count": 4,
      "outputs": [
        {
          "output_type": "stream",
          "text": [
            "\r0it [00:00, ?it/s]"
          ],
          "name": "stderr"
        },
        {
          "output_type": "stream",
          "text": [
            "Downloading https://www.cs.toronto.edu/~kriz/cifar-10-python.tar.gz to ../../data/cifar-10-python.tar.gz\n"
          ],
          "name": "stdout"
        },
        {
          "output_type": "stream",
          "text": [
            "170500096it [00:06, 26502993.30it/s]                               \n"
          ],
          "name": "stderr"
        },
        {
          "output_type": "stream",
          "text": [
            "Extracting ../../data/cifar-10-python.tar.gz to ../../data/\n",
            "torch.Size([3, 32, 32])\n",
            "6\n",
            "tensor([3, 6, 2, 3, 4, 1, 1, 0, 3, 6, 2, 3, 4, 4, 0, 5, 3, 8, 2, 6, 6, 7, 4, 0,\n",
            "        9, 8, 7, 9, 0, 4, 7, 9, 3, 1, 9, 6, 6, 6, 9, 7, 6, 7, 0, 5, 3, 2, 9, 6,\n",
            "        6, 5, 6, 7, 1, 1, 8, 8, 8, 7, 7, 2, 5, 4, 5, 6])\n",
            "tensor([4, 8, 5, 7, 7, 9, 6, 3, 6, 8, 2, 5, 4, 5, 0, 4, 4, 1, 8, 0, 7, 0, 7, 1,\n",
            "        1, 1, 1, 3, 8, 2, 3, 2, 3, 8, 9, 6, 6, 3, 2, 2, 2, 0, 7, 5, 7, 6, 4, 2,\n",
            "        0, 8, 2, 9, 6, 5, 9, 3, 5, 6, 6, 5, 2, 2, 5, 1])\n",
            "tensor([1, 3, 6, 7, 8, 6, 1, 4, 7, 4, 6, 0, 7, 4, 3, 7, 2, 0, 8, 3, 5, 3, 2, 3,\n",
            "        6, 6, 7, 9, 0, 3, 2, 5, 8, 0, 3, 2, 4, 6, 8, 7, 2, 6, 0, 6, 6, 6, 1, 4,\n",
            "        7, 1, 1, 1, 7, 6, 5, 6, 1, 1, 9, 0, 8, 0, 9, 1])\n",
            "tensor([9, 8, 4, 0, 6, 3, 2, 7, 1, 8, 7, 2, 4, 9, 1, 6, 3, 8, 3, 6, 5, 3, 7, 6,\n",
            "        1, 1, 2, 2, 6, 6, 2, 6, 1, 0, 2, 4, 6, 9, 4, 0, 2, 8, 7, 6, 1, 0, 9, 1,\n",
            "        5, 2, 4, 7, 1, 1, 9, 0, 5, 8, 2, 0, 5, 1, 5, 2])\n",
            "tensor([7, 0, 2, 4, 2, 8, 2, 6, 1, 4, 2, 8, 0, 4, 4, 6, 1, 4, 9, 8, 2, 6, 1, 4,\n",
            "        5, 0, 6, 5, 4, 9, 2, 3, 0, 8, 6, 7, 4, 2, 5, 7, 1, 8, 3, 4, 3, 3, 2, 0,\n",
            "        2, 3, 1, 0, 7, 0, 2, 4, 0, 6, 4, 9, 4, 4, 2, 5])\n",
            "tensor([3, 7, 7, 0, 2, 5, 8, 3, 7, 5, 3, 0, 3, 7, 8, 6, 0, 0, 0, 3, 1, 8, 4, 1,\n",
            "        4, 1, 5, 9, 8, 0, 0, 3, 6, 6, 1, 3, 1, 8, 5, 4, 2, 9, 4, 9, 9, 1, 8, 8,\n",
            "        4, 9, 3, 9, 8, 0, 9, 3, 0, 3, 6, 9, 1, 5, 6, 4])\n",
            "tensor([5, 1, 2, 6, 4, 7, 8, 0, 1, 9, 9, 1, 0, 5, 1, 5, 4, 0, 4, 4, 4, 0, 8, 0,\n",
            "        6, 3, 9, 2, 3, 0, 9, 9, 5, 4, 3, 7, 2, 6, 3, 8, 9, 3, 0, 6, 4, 5, 9, 4,\n",
            "        1, 6, 2, 9, 3, 3, 6, 9, 5, 2, 6, 0, 9, 1, 9, 7])\n",
            "tensor([0, 6, 2, 2, 4, 9, 4, 8, 1, 5, 9, 7, 5, 6, 4, 9, 3, 3, 3, 5, 0, 1, 9, 9,\n",
            "        4, 7, 0, 5, 1, 5, 7, 1, 2, 8, 9, 3, 8, 5, 7, 4, 4, 5, 4, 1, 3, 9, 1, 8,\n",
            "        9, 1, 1, 4, 3, 9, 3, 3, 0, 0, 8, 9, 1, 8, 9, 5])\n",
            "tensor([4, 4, 3, 3, 4, 8, 8, 7, 1, 3, 8, 2, 0, 5, 6, 0, 1, 6, 2, 9, 2, 1, 0, 0,\n",
            "        6, 0, 2, 3, 9, 1, 0, 1, 9, 3, 2, 2, 0, 1, 4, 4, 2, 0, 7, 3, 5, 4, 9, 8,\n",
            "        3, 5, 0, 0, 0, 9, 2, 9, 1, 5, 3, 2, 9, 3, 0, 8])\n",
            "tensor([5, 0, 2, 3, 3, 2, 5, 1, 7, 7, 2, 0, 5, 5, 8, 8, 0, 9, 3, 2, 7, 3, 1, 9,\n",
            "        8, 3, 8, 9, 9, 6, 9, 7, 8, 3, 6, 1, 8, 6, 4, 0, 8, 5, 1, 5, 3, 4, 6, 5,\n",
            "        3, 5, 0, 6, 8, 3, 6, 9, 7, 2, 0, 3, 1, 5, 5, 8])\n"
          ],
          "name": "stdout"
        }
      ]
    },
    {
      "cell_type": "code",
      "metadata": {
        "id": "s8gSEe4-Lo7H",
        "colab_type": "code",
        "colab": {
          "base_uri": "https://localhost:8080/",
          "height": 185
        },
        "outputId": "34fcc04c-a16e-44f3-f381-7c6e5719e2ef"
      },
      "source": [
        "c = 0\n",
        "for images, labels in train_loader:\n",
        "    # Training code should be written here.\n",
        "    if c < 10:\n",
        "      print(images[0].size())\n",
        "      c = c + 1\n",
        "    pass"
      ],
      "execution_count": 5,
      "outputs": [
        {
          "output_type": "stream",
          "text": [
            "torch.Size([3, 32, 32])\n",
            "torch.Size([3, 32, 32])\n",
            "torch.Size([3, 32, 32])\n",
            "torch.Size([3, 32, 32])\n",
            "torch.Size([3, 32, 32])\n",
            "torch.Size([3, 32, 32])\n",
            "torch.Size([3, 32, 32])\n",
            "torch.Size([3, 32, 32])\n",
            "torch.Size([3, 32, 32])\n",
            "torch.Size([3, 32, 32])\n"
          ],
          "name": "stdout"
        }
      ]
    },
    {
      "cell_type": "code",
      "metadata": {
        "id": "nhS7wZPxLsPI",
        "colab_type": "code",
        "colab": {}
      },
      "source": [
        "\n",
        "# ================================================================== #\n",
        "#                5. Input pipline for custom dataset                 #\n",
        "# ================================================================== #\n",
        "\n",
        "# You should build your custom dataset as below.\n",
        "class CustomDataset(torch.utils.data.Dataset):\n",
        "    def __init__(self):\n",
        "        # TODO\n",
        "        # 1. Initialize file paths or a list of file names. \n",
        "        pass\n",
        "    def __getitem__(self, index):\n",
        "        # TODO\n",
        "        # 1. Read one data from file (e.g. using numpy.fromfile, PIL.Image.open).\n",
        "        # 2. Preprocess the data (e.g. torchvision.Transform).\n",
        "        # 3. Return a data pair (e.g. image and label).\n",
        "        pass\n",
        "    def __len__(self):\n",
        "        # You should change 0 to the total size of your dataset.\n",
        "        return 0 \n",
        "\n",
        "# You can then use the prebuilt data loader. \n",
        "custom_dataset = CustomDataset()\n",
        "train_loader = torch.utils.data.DataLoader(dataset=custom_dataset,\n",
        "                                           batch_size=64, \n",
        "                                           shuffle=True)\n",
        "\n",
        "\n",
        "# ================================================================== #\n",
        "#                        6. Pretrained model                         #\n",
        "# ================================================================== #\n",
        "\n",
        "# Download and load the pretrained ResNet-18.\n",
        "resnet = torchvision.models.resnet18(pretrained=True)\n",
        "\n",
        "# If you want to finetune only the top layer of the model, set as below.\n",
        "for param in resnet.parameters():\n",
        "    param.requires_grad = False\n",
        "\n",
        "# Replace the top layer for finetuning.\n",
        "resnet.fc = nn.Linear(resnet.fc.in_features, 100)  # 100 is an example.\n",
        "\n",
        "# Forward pass.\n",
        "images = torch.randn(64, 3, 224, 224)\n",
        "outputs = resnet(images)\n",
        "print (outputs.size())     # (64, 100)\n",
        "\n",
        "\n",
        "# ================================================================== #\n",
        "#                      7. Save and load the model                    #\n",
        "# ================================================================== #\n",
        "\n",
        "# Save and load the entire model.\n",
        "torch.save(resnet, 'model.ckpt')\n",
        "model = torch.load('model.ckpt')\n",
        "\n",
        "# Save and load only the model parameters (recommended).\n",
        "torch.save(resnet.state_dict(), 'params.ckpt')\n",
        "resnet.load_state_dict(torch.load('params.ckpt'))"
      ],
      "execution_count": 0,
      "outputs": []
    },
    {
      "cell_type": "code",
      "metadata": {
        "id": "GZ7X7NCRLx37",
        "colab_type": "code",
        "colab": {}
      },
      "source": [
        ""
      ],
      "execution_count": 0,
      "outputs": []
    }
  ]
}